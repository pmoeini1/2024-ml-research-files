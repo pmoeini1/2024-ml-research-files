{
 "cells": [
  {
   "cell_type": "code",
   "execution_count": 138,
   "metadata": {},
   "outputs": [],
   "source": [
    "import os\n",
    "import pandas as pd\n",
    "import numpy as np"
   ]
  },
  {
   "cell_type": "code",
   "execution_count": 139,
   "metadata": {},
   "outputs": [],
   "source": [
    "dfs = []\n",
    "for filename in os.listdir(\"Golf Club\"):\n",
    "    dfs.append(pd.read_excel(\"Golf Club/\"+ filename))\n",
    "    if len(dfs) >= 4:\n",
    "        break"
   ]
  },
  {
   "cell_type": "code",
   "execution_count": 140,
   "metadata": {},
   "outputs": [
    {
     "data": {
      "text/plain": [
       "'\"\"\\nfor df in dfs:\\n    for col in [\\'Volts_avg\\', \\'Volts_std\\', \\'VoltsA_avg\\', \\'VoltsA_std\\', \\'Amps_avg\\', \\'Amps_std\\',\\n    \\'AmpsA_avg\\', \\'AmpsA_std\\', \\'ReactivePower_avg\\', \\'ReactivePower_std\\', \\'ApparentPower_avg\\', \\'ApparentPower_std\\',\\n       \\'Frequency_avg\\', \\'Frequency_std\\', \\'Humidity_avg\\', \\'Temp_avg\\', \\'RealPower_avg\\']:\\n        temp = (adfuller(df[col].to_numpy()))\\n        if (temp[0] > 0):\\n            print(col)\\n'"
      ]
     },
     "execution_count": 140,
     "metadata": {},
     "output_type": "execute_result"
    }
   ],
   "source": [
    "#check for stationarity\n",
    "from statsmodels.tsa.stattools import adfuller\n",
    "\"\"\"\"\"\n",
    "for df in dfs:\n",
    "    for col in ['Volts_avg', 'Volts_std', 'VoltsA_avg', 'VoltsA_std', 'Amps_avg', 'Amps_std',\n",
    "    'AmpsA_avg', 'AmpsA_std', 'ReactivePower_avg', 'ReactivePower_std', 'ApparentPower_avg', 'ApparentPower_std',\n",
    "       'Frequency_avg', 'Frequency_std', 'Humidity_avg', 'Temp_avg', 'RealPower_avg']:\n",
    "        temp = (adfuller(df[col].to_numpy()))\n",
    "        if (temp[0] > 0):\n",
    "            print(col)\n",
    "\"\"\"\"\"\n",
    "\n",
    "\n",
    "# all columns above are stationary (ADFuller < 0) (I'm very confused as to why temperature is stationary? perhaps because of daily variance?)"
   ]
  },
  {
   "cell_type": "code",
   "execution_count": 141,
   "metadata": {},
   "outputs": [],
   "source": [
    "# standardize values\n",
    "for df in dfs:\n",
    "    df.drop(columns=['Timecode', 'Datetime'], inplace=True)\n",
    "    for col in ['Volts_avg', 'Volts_std', 'VoltsA_avg', 'VoltsA_std', 'Amps_avg', 'Amps_std',\n",
    "    'AmpsA_avg', 'AmpsA_std', 'ReactivePower_avg', 'ReactivePower_std', 'ApparentPower_avg', 'ApparentPower_std',\n",
    "       'Frequency_avg', 'Frequency_std', 'Humidity_avg', 'Temp_avg', 'RealPower_avg']:\n",
    "        df[col] = ((df[col] - df[col].mean()) / df[col].std())"
   ]
  },
  {
   "cell_type": "code",
   "execution_count": 142,
   "metadata": {},
   "outputs": [],
   "source": [
    "import math\n",
    "# make time features sinuosoidal\n",
    "for df in dfs:\n",
    "    df['Month'] = df['Month'].astype(float)\n",
    "    df['Day'] = df['Day'].astype(float)\n",
    "    df['Hour'] = df['Hour'].astype(float)\n",
    "    df['Minute'] = df['Minute'].astype(float)\n",
    "    df['Weekday'] = df['Weekday'].astype(float)\n",
    "\n",
    "    for i, row in df.iterrows():\n",
    "        tempMonth = df.at[i, 'Month']\n",
    "        df.at[i, 'Month'] = math.sin((2 * math.pi * tempMonth) / 12)\n",
    "        tempDay = df.at[i, 'Day']\n",
    "        if int(tempMonth) in [1, 3, 5, 7, 8, 10, 12]:\n",
    "            df.at[i, 'Day'] = math.sin((2 * math.pi * tempDay) / 31)\n",
    "        elif int(tempMonth) in [4, 6, 9, 11]:\n",
    "            df.at[i, 'Day'] = math.sin((2 * math.pi * tempDay) / 30)\n",
    "        elif (int(tempMonth) in [2]) and (int(df.at[i, 'Year']) % 4 == 0):\n",
    "            df.at[i, 'Day'] = math.sin((2 * math.pi * tempDay) / 29)\n",
    "        elif int(tempMonth) in [2] and int(df.at[i, 'Year']) % 4 != 0:\n",
    "            df.at[i, 'Day'] = math.sin((2 * math.pi * tempDay) / 29)\n",
    "        else:\n",
    "            print(\"Issue in data\")\n",
    "        tempHour = df.at[i, 'Hour']\n",
    "        df.at[i, 'Hour'] = math.sin((2 * math.pi * tempHour) / 23)\n",
    "        tempMinute = df.at[i, 'Minute']\n",
    "        df.at[i, 'Minute'] = math.sin((2 * math.pi * tempMinute) / 60)\n",
    "        tempWeekday = df.at[i, 'Weekday']\n",
    "        df.at[i, 'Weekday'] = math.sin((2 * math.pi * tempWeekday) / 7)"
   ]
  }
 ],
 "metadata": {
  "kernelspec": {
   "display_name": "Python 3",
   "language": "python",
   "name": "python3"
  },
  "language_info": {
   "codemirror_mode": {
    "name": "ipython",
    "version": 3
   },
   "file_extension": ".py",
   "mimetype": "text/x-python",
   "name": "python",
   "nbconvert_exporter": "python",
   "pygments_lexer": "ipython3",
   "version": "3.12.0"
  }
 },
 "nbformat": 4,
 "nbformat_minor": 2
}
